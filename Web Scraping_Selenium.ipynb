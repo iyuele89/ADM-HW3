{
 "cells": [
  {
   "cell_type": "code",
   "execution_count": null,
   "metadata": {},
   "outputs": [],
   "source": [
    "!pip3 install selenium\n",
    "!pip install chromedriver-binary\n",
    "!pip3 install spacy\n",
    "!python -m spacy download en_core_web_sm "
   ]
  },
  {
   "cell_type": "code",
   "execution_count": 51,
   "metadata": {},
   "outputs": [],
   "source": [
    "from bs4 import BeautifulSoup as bs\n",
    "import requests\n",
    "from selenium import webdriver\n",
    "import chromedriver_binary\n",
    "import spacy\n",
    "import re"
   ]
  },
  {
   "cell_type": "code",
   "execution_count": 52,
   "metadata": {},
   "outputs": [],
   "source": [
    "driver = webdriver.Chrome()\n",
    "driver.page_source\n",
    "nlp = spacy.load('en_core_web_sm')"
   ]
  },
  {
   "cell_type": "code",
   "execution_count": 69,
   "metadata": {},
   "outputs": [],
   "source": [
    "def book_scraping(href, driver, nlp):\n",
    "    driver.get(href)\n",
    "    soup = bs(driver.page_source, features='lxml')    \n",
    "    bookTitle = soup.find_all('h1', id='bookTitle')[0].contents[0].strip()\n",
    "    bookSeries = None\n",
    "    try:\n",
    "        bookSeries = soup.find_all('h2', id='bookSeries')[0].contents[1].contents[0].strip()[1:-1]\n",
    "    except Exception:\n",
    "        pass\n",
    "    bookAuthors = soup.find_all('span', itemprop='name')[0].contents[0].strip()\n",
    "    descr = soup.find_all('div', id='description')[0].contents\n",
    "    descr_fil= list(filter(lambda s: s!='\\n', descr))\n",
    "    if len(descr_fil) == 1:\n",
    "        Plot = ''.join(descr_fil[0].contents[0])\n",
    "    else:\n",
    "        descr_fil = descr_fil[1:-1]\n",
    "        x = [j for i in descr_fil for j in i.contents if (isinstance(j, str)==True)]\n",
    "        Plot = ''.join(x)\n",
    "    NumberofPages = soup.find_all('span', itemprop='numberOfPages')[0].contents[0].split()[0]\n",
    "    ratingValue = soup.find_all('span', itemprop='ratingValue')[0].contents[0].strip()\n",
    "    ratings_reviews = soup.find_all('a', href='#other_reviews')\n",
    "    for i in ratings_reviews:\n",
    "        if i.find_all('meta',itemprop='ratingCount'):\n",
    "            ratingCount = i.contents[2].split()[0]\n",
    "        if i.find_all('meta',itemprop='reviewCount'):\n",
    "            reviewCount = i.contents[2].split()[0]\n",
    "    pub = soup.find_all('div', class_='row')[1].contents[0].split()[1:4]\n",
    "    Published = ' '.join(pub)\n",
    "    char = soup.find_all('a', href=re.compile('characters')) # find the regular expression(re) 'characters' within the attribute href \n",
    "    Characters = [i.contents[0] for i in char]\n",
    "    sett = soup.find_all('a', href=re.compile('places')) # find the regular expression(re) 'places' within the attribute href \n",
    "    if len(sett) == 0:\n",
    "        Setting = None\n",
    "    else:\n",
    "        Setting = [i.contents[0] for i in sett] \n",
    "    doc = nlp(Plot)\n",
    "    token_list = [token for token in doc]\n",
    "    sentiment_analysis = [token for token in token_list if not token.is_stop and not token.is_punct]\n",
    "    return (bookTitle, bookSeries, bookAuthors, ratingValue, ratingCount, reviewCount, Plot, NumberofPages, Published, Characters, Setting)"
   ]
  },
  {
   "cell_type": "code",
   "execution_count": 70,
   "metadata": {},
   "outputs": [
    {
     "data": {
      "text/plain": [
       "('Infernal Devices',\n",
       " 'Infernal Devices #1',\n",
       " 'K.W. Jeter',\n",
       " '3.36',\n",
       " '2,698',\n",
       " '387',\n",
       " \"HE INHERITED A WATCHMAKER'S STORE - AND A WHOLE HEAP OF TROUBLE. But idle sometime-musician George has little talent for clockwork. And when a shadowy figure tries to steal an old device from the premises, George finds himself embroiled in a mystery of time travel, music and sexual intrigue. A genuine lost classic, a steampunk original whose time has come.\",\n",
       " '384',\n",
       " 'April 7th 2011',\n",
       " [],\n",
       " None)"
      ]
     },
     "execution_count": 70,
     "metadata": {},
     "output_type": "execute_result"
    }
   ],
   "source": [
    "href = 'https://www.goodreads.com/book/show/9222475-infernal-devices'\n",
    "book_scraping(href, driver, nlp)"
   ]
  },
  {
   "cell_type": "code",
   "execution_count": 71,
   "metadata": {},
   "outputs": [
    {
     "data": {
      "text/plain": [
       "('Boneshaker',\n",
       " 'The Clockwork Century #1',\n",
       " 'Cherie Priest',\n",
       " '3.51',\n",
       " '31,414',\n",
       " '4,073',\n",
       " 'In the early days of the Civil War, rumors of gold in the frozen Klondike brought hordes of newcomers to the Pacific Northwest. Anxious to compete, Russian prospectors commissioned inventor Leviticus Blue to create a great machine that could mine through Alaska’s ice. Thus was Dr. Blue’s Incredible Bone-Shaking Drill Engine born.But on its first test run the Boneshaker went terribly awry, destroying several blocks of downtown Seattle and unearthing a subterranean vein of blight gas that turned anyone who breathed it into the living dead.Now it is sixteen years later, and a wall has been built to enclose the devastated and toxic city. Just beyond it lives Blue’s widow, Briar Wilkes. Life is hard with a ruined reputation and a teenaged boy to support, but she and Ezekiel are managing. Until Ezekiel undertakes a secret crusade to rewrite history.His quest will take him under the wall and into a city teeming with ravenous undead, air pirates, criminal overlords, and heavily armed refugees. And only Briar can bring him out alive.',\n",
       " '416',\n",
       " 'September 29th 2009',\n",
       " ['Zombies',\n",
       "  'Briar Wilkes',\n",
       "  'Ezekiel (Zeke) Wilkes',\n",
       "  'Croggon Beauregard Hainey'],\n",
       " ['Seattle, Washington'])"
      ]
     },
     "execution_count": 71,
     "metadata": {},
     "output_type": "execute_result"
    }
   ],
   "source": [
    "href = 'https://www.goodreads.com/book/show/1137215.Boneshaker'\n",
    "book_scraping(href, driver, nlp)"
   ]
  },
  {
   "cell_type": "code",
   "execution_count": 72,
   "metadata": {},
   "outputs": [
    {
     "data": {
      "text/plain": [
       "('Do Androids Dream of Electric Sheep?',\n",
       " 'Blade Runner #1',\n",
       " 'Philip K. Dick',\n",
       " '4.08',\n",
       " '348,186',\n",
       " '13,281',\n",
       " 'It was January 2021, and Rick Deckard had a license to kill.',\n",
       " '244',\n",
       " 'June 1996 by',\n",
       " ['Rick Deckard',\n",
       "  'John Isidore',\n",
       "  'Roy Baty',\n",
       "  'Rachael Rosen',\n",
       "  'Iran Deckard',\n",
       "  'Phil Resch',\n",
       "  'Luba Luft',\n",
       "  'Bill Barbour',\n",
       "  'Pris Stratton',\n",
       "  'Hannibal Sloat',\n",
       "  'Irmgard Baty',\n",
       "  'Inspector Garland',\n",
       "  'Max Polokov',\n",
       "  'Wilbur Mercer',\n",
       "  'Buster Friendly',\n",
       "  'Al Jarry'],\n",
       " ['San Francisco, California', 'California', 'United States of America'])"
      ]
     },
     "execution_count": 72,
     "metadata": {},
     "output_type": "execute_result"
    }
   ],
   "source": [
    "href = 'https://www.goodreads.com/book/show/7082.Do_Androids_Dream_of_Electric_Sheep_'\n",
    "book_scraping(href, driver, nlp)"
   ]
  },
  {
   "cell_type": "code",
   "execution_count": 73,
   "metadata": {},
   "outputs": [
    {
     "data": {
      "text/plain": [
       "('House of Leaves',\n",
       " None,\n",
       " 'Mark Z. Danielewski',\n",
       " '4.05',\n",
       " '132,654',\n",
       " '11,146',\n",
       " 'Years ago, when  was first being passed around, it was nothing more than a badly bundled heap of paper, parts of which would occasionally surface on the Internet. No one could have anticipated the small but devoted following this terrifying story would soon command. Starting with an odd assortment of marginalized youth—musicians, tattoo artists, programmers, strippers, environmentalists, and adrenaline junkies—the book eventually made its way into the hands of older generations, who not only found themselves in those strangely arranged pages but also discovered a way back into the lives of their estranged children.Now, for the first time, this astonishing novel is made available in book form, complete with the original colored words, vertical footnotes, and newly added second and third appendices.The story remains unchanged, focusing on a young family that moves into a small home on Ash Tree Lane where they discover something is terribly wrong: their house is bigger on the inside than it is on the outside.Of course, neither Pulitzer Prize-winning photojournalist Will Navidson nor his companion Karen Green was prepared to face the consequences of that impossibility, until the day their two little children wandered off and their voices eerily began to return another story—of creature darkness, of an ever-growing abyss behind a closet door, and of that unholy growl which soon enough would tear through their walls and consume all their dreams.',\n",
       " '705',\n",
       " 'March 7th 2000',\n",
       " ['Zampanò', 'Will Navidson', 'Karen Green', 'Johnny Truant'],\n",
       " None)"
      ]
     },
     "execution_count": 73,
     "metadata": {},
     "output_type": "execute_result"
    }
   ],
   "source": [
    "href = 'https://www.goodreads.com/book/show/24800.House_of_Leaves'\n",
    "book_scraping(href, driver, nlp)"
   ]
  }
 ],
 "metadata": {
  "kernelspec": {
   "display_name": "Python 3",
   "language": "python",
   "name": "python3"
  },
  "language_info": {
   "codemirror_mode": {
    "name": "ipython",
    "version": 3
   },
   "file_extension": ".py",
   "mimetype": "text/x-python",
   "name": "python",
   "nbconvert_exporter": "python",
   "pygments_lexer": "ipython3",
   "version": "3.8.3"
  }
 },
 "nbformat": 4,
 "nbformat_minor": 4
}
